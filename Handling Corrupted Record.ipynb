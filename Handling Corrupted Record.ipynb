{
 "cells": [
  {
   "cell_type": "raw",
   "id": "100256dc",
   "metadata": {},
   "source": [
    "1. have you worked with corrupted record?\n",
    "2. when do you say that its corrupted record?\n",
    "3. what happens when we encounter with corrupted records in different read mode? \n",
    "4. how can we print bad records? \n",
    "5. where do you stare corrupted records and how can we access it later?\n"
   ]
  },
  {
   "cell_type": "code",
   "execution_count": 1,
   "id": "bb56b3a3",
   "metadata": {},
   "outputs": [],
   "source": [
    "from pyspark.sql import SparkSession\n",
    "spark = SparkSession.builder.appName(\"Corrpted\").getOrCreate()"
   ]
  },
  {
   "cell_type": "code",
   "execution_count": 3,
   "id": "673631fc",
   "metadata": {},
   "outputs": [
    {
     "name": "stdout",
     "output_type": "stream",
     "text": [
      "+---------+----+----------+------+\n",
      "|     Name| age|Experience|Salary|\n",
      "+---------+----+----------+------+\n",
      "|    Krish|  31|        10| 30000|\n",
      "|Sudhanshu|  30|         8| 25000|\n",
      "|       US|  29|         4| 20000|\n",
      "|     Paul|  24|         3| 20000|\n",
      "|    India|  21|         1| 15000|\n",
      "|  Shubham|  23|         2| 18000|\n",
      "|   Mahesh|NULL|      NULL| 40000|\n",
      "|     NULL|  34|        10| 38000|\n",
      "|     NULL|  36|      NULL|  NULL|\n",
      "+---------+----+----------+------+\n",
      "\n"
     ]
    }
   ],
   "source": [
    "Py_spark = spark.read.format('csv')\\\n",
    "            .option('header' , 'true')\\\n",
    "            .option('inferSchema', 'true')\\\n",
    "            .load('test2.csv')\n",
    "\n",
    "Py_spark.show()"
   ]
  },
  {
   "cell_type": "code",
   "execution_count": 4,
   "id": "fa5e3d1b",
   "metadata": {},
   "outputs": [],
   "source": [
    "from pyspark.sql.types import StringType, StructField, IntegerType, StructType"
   ]
  },
  {
   "cell_type": "code",
   "execution_count": 13,
   "id": "a1250a44",
   "metadata": {},
   "outputs": [],
   "source": [
    "Sample_schema = StructType(\n",
    "                [\n",
    "                    StructField('Name', StringType(), True),\n",
    "                    StructField('age', IntegerType(), True),\n",
    "                    StructField('Experience', IntegerType(), True),\n",
    "                    StructField('Salary', IntegerType(), True),\n",
    "                    StructField('_corrupt_record', StringType(), True)\n",
    "                ])"
   ]
  },
  {
   "cell_type": "code",
   "execution_count": 17,
   "id": "5fde67b2",
   "metadata": {},
   "outputs": [
    {
     "name": "stdout",
     "output_type": "stream",
     "text": [
      "+---------+----+----------+------+---------------------+\n",
      "|Name     |age |Experience|Salary|_corrupt_record      |\n",
      "+---------+----+----------+------+---------------------+\n",
      "|Krish    |31  |10        |30000 |Krish,31,10,30000,   |\n",
      "|Sudhanshu|30  |8         |25000 |Sudhanshu,30,8,25000,|\n",
      "|rahul    |NULL|29        |4     |rahul,US,29,4,20000  |\n",
      "|Paul     |24  |3         |20000 |Paul,24,3,20000,     |\n",
      "|sk       |NULL|21        |1     |sk,India,21,1,15000  |\n",
      "|Shubham  |23  |2         |18000 |Shubham,23,2,18000,  |\n",
      "|Mahesh   |NULL|NULL      |40000 |Mahesh,,,40000,      |\n",
      "|NULL     |34  |10        |38000 |,34,10,38000,        |\n",
      "|NULL     |36  |NULL      |NULL  |,36,,,               |\n",
      "+---------+----+----------+------+---------------------+\n",
      "\n"
     ]
    }
   ],
   "source": [
    "Py_spark = spark.read.format('csv')\\\n",
    "            .option('header' , 'true')\\\n",
    "            .schema(Sample_schema)\\\n",
    "            .option('inferSchema', 'true')\\\n",
    "            .load('test2.csv')\n",
    "\n",
    "Py_spark.show(truncate=False)"
   ]
  },
  {
   "cell_type": "code",
   "execution_count": null,
   "id": "76ce886d",
   "metadata": {},
   "outputs": [],
   "source": []
  },
  {
   "cell_type": "code",
   "execution_count": null,
   "id": "e1fc77b3",
   "metadata": {},
   "outputs": [],
   "source": []
  }
 ],
 "metadata": {
  "kernelspec": {
   "display_name": "Python 3 (ipykernel)",
   "language": "python",
   "name": "python3"
  },
  "language_info": {
   "codemirror_mode": {
    "name": "ipython",
    "version": 3
   },
   "file_extension": ".py",
   "mimetype": "text/x-python",
   "name": "python",
   "nbconvert_exporter": "python",
   "pygments_lexer": "ipython3",
   "version": "3.9.1"
  }
 },
 "nbformat": 4,
 "nbformat_minor": 5
}
