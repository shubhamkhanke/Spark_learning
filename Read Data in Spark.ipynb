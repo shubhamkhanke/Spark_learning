{
 "cells": [
  {
   "cell_type": "raw",
   "id": "2523d4c0",
   "metadata": {},
   "source": [
    "Theories:\n",
    "\n",
    "### Structure ###\n",
    "\n",
    "sample = spark.read.format('csv')\\\n",
    "            .option('key' , 'value')\\\n",
    "            .schema(---)\\\n",
    "            .load('2010-summary.csv')\n",
    "\n",
    "sample.show()\n",
    "\n",
    "## Format  ##\n",
    "Data file \n",
    "\n",
    ".format : CSV, JSON, JDBC/ODBC, TABLE, Parquet\n",
    ".option : inferSchema, mode, header\n",
    ".schema : you can also your manual schema\n",
    ".load : path where our CSV, or file is store\n",
    "\n",
    "Mode\n",
    "types:\n",
    "1. Failfast = if corrupted record is found our csv or file then he can give error and fail the execution...\n",
    "2. Dropmalformed = Drop the corrupted record.... if in found...\n",
    "3. Permissive = it is default method.. if corrupted record is found then he set as NULL value to all corrupted record....\n",
    "    "
   ]
  },
  {
   "cell_type": "code",
   "execution_count": null,
   "id": "6ca6a7f3",
   "metadata": {},
   "outputs": [],
   "source": []
  },
  {
   "cell_type": "code",
   "execution_count": null,
   "id": "80c002ec",
   "metadata": {},
   "outputs": [],
   "source": []
  },
  {
   "cell_type": "code",
   "execution_count": null,
   "id": "20c193eb",
   "metadata": {},
   "outputs": [],
   "source": [
    "from pyspark.sql import SparkSession\n",
    "spark = SparkSession.builder.appName(\"Sample\").getOrCreate()"
   ]
  },
  {
   "cell_type": "code",
   "execution_count": 2,
   "id": "be82271a",
   "metadata": {},
   "outputs": [
    {
     "name": "stdout",
     "output_type": "stream",
     "text": [
      "+-----------------+-------------------+-----+\n",
      "|              _c0|                _c1|  _c2|\n",
      "+-----------------+-------------------+-----+\n",
      "|DEST_COUNTRY_NAME|ORIGIN_COUNTRY_NAME|count|\n",
      "|    United States|            Romania|    1|\n",
      "|    United States|            Ireland|  264|\n",
      "|    United States|              India|   69|\n",
      "|            Egypt|      United States|   24|\n",
      "+-----------------+-------------------+-----+\n",
      "only showing top 5 rows\n",
      "\n"
     ]
    }
   ],
   "source": [
    "df_flight = spark.read.format('csv')\\\n",
    "            .option('header' , 'false')\\\n",
    "            .option('inferSchema', 'false')\\\n",
    "            .option('mode', 'FAILFAST')\\\n",
    "            .load('2010-summary.csv')\n",
    "\n",
    "df_flight.show(5)"
   ]
  },
  {
   "cell_type": "code",
   "execution_count": 3,
   "id": "33180db5",
   "metadata": {},
   "outputs": [
    {
     "name": "stdout",
     "output_type": "stream",
     "text": [
      "+-----------------+-------------------+-----+\n",
      "|DEST_COUNTRY_NAME|ORIGIN_COUNTRY_NAME|count|\n",
      "+-----------------+-------------------+-----+\n",
      "|    United States|            Romania|    1|\n",
      "|    United States|            Ireland|  264|\n",
      "|    United States|              India|   69|\n",
      "|            Egypt|      United States|   24|\n",
      "|Equatorial Guinea|      United States|    1|\n",
      "+-----------------+-------------------+-----+\n",
      "only showing top 5 rows\n",
      "\n"
     ]
    }
   ],
   "source": [
    "df_flight_Header = spark.read.format('csv')\\\n",
    "            .option('header' , 'true')\\\n",
    "            .option('inferSchema', 'false')\\\n",
    "            .option('mode', 'FAILFAST')\\\n",
    "            .load('2010-summary.csv')\n",
    "\n",
    "df_flight_Header.show(5)"
   ]
  },
  {
   "cell_type": "code",
   "execution_count": 5,
   "id": "34951b83",
   "metadata": {},
   "outputs": [
    {
     "name": "stdout",
     "output_type": "stream",
     "text": [
      "root\n",
      " |-- DEST_COUNTRY_NAME: string (nullable = true)\n",
      " |-- ORIGIN_COUNTRY_NAME: string (nullable = true)\n",
      " |-- count: string (nullable = true)\n",
      "\n"
     ]
    }
   ],
   "source": [
    "df_flight_Header.printSchema()"
   ]
  },
  {
   "cell_type": "code",
   "execution_count": 6,
   "id": "e3fd5d8d",
   "metadata": {},
   "outputs": [
    {
     "name": "stdout",
     "output_type": "stream",
     "text": [
      "+-----------------+-------------------+-----+\n",
      "|DEST_COUNTRY_NAME|ORIGIN_COUNTRY_NAME|count|\n",
      "+-----------------+-------------------+-----+\n",
      "|    United States|            Romania|    1|\n",
      "|    United States|            Ireland|  264|\n",
      "|    United States|              India|   69|\n",
      "|            Egypt|      United States|   24|\n",
      "|Equatorial Guinea|      United States|    1|\n",
      "+-----------------+-------------------+-----+\n",
      "only showing top 5 rows\n",
      "\n"
     ]
    }
   ],
   "source": [
    "df_flight_Infer = spark.read.format('csv')\\\n",
    "            .option('header' , 'true')\\\n",
    "            .option('inferSchema', 'true')\\\n",
    "            .option('mode', 'FAILFAST')\\\n",
    "            .load('2010-summary.csv')\n",
    "\n",
    "df_flight_Infer.show(5)"
   ]
  },
  {
   "cell_type": "code",
   "execution_count": 7,
   "id": "b1b136dd",
   "metadata": {},
   "outputs": [
    {
     "name": "stdout",
     "output_type": "stream",
     "text": [
      "root\n",
      " |-- DEST_COUNTRY_NAME: string (nullable = true)\n",
      " |-- ORIGIN_COUNTRY_NAME: string (nullable = true)\n",
      " |-- count: integer (nullable = true)\n",
      "\n"
     ]
    }
   ],
   "source": [
    "df_flight_Infer.printSchema()"
   ]
  },
  {
   "cell_type": "code",
   "execution_count": null,
   "id": "b73e1d03",
   "metadata": {},
   "outputs": [],
   "source": []
  },
  {
   "cell_type": "code",
   "execution_count": null,
   "id": "0b6e5e27",
   "metadata": {},
   "outputs": [],
   "source": []
  }
 ],
 "metadata": {
  "kernelspec": {
   "display_name": "Python 3 (ipykernel)",
   "language": "python",
   "name": "python3"
  },
  "language_info": {
   "codemirror_mode": {
    "name": "ipython",
    "version": 3
   },
   "file_extension": ".py",
   "mimetype": "text/x-python",
   "name": "python",
   "nbconvert_exporter": "python",
   "pygments_lexer": "ipython3",
   "version": "3.9.1"
  }
 },
 "nbformat": 4,
 "nbformat_minor": 5
}
